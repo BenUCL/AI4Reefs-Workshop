{
  "cells": [
    {
      "cell_type": "markdown",
      "metadata": {
        "id": "view-in-github",
        "colab_type": "text"
      },
      "source": [
        "<a href=\"https://colab.research.google.com/github/BenUCL/AI4Reefs-Workshop/blob/main/Nueral_Networks_%26_Images.ipynb\" target=\"_parent\"><img src=\"https://colab.research.google.com/assets/colab-badge.svg\" alt=\"Open In Colab\"/></a>"
      ]
    },
    {
      "cell_type": "code",
      "source": [
        "#@title Watch this if you haven't already!\n",
        "from IPython.display import YouTubeVideo\n",
        "\n",
        "# YouTube video ID\n",
        "video_id = \"jmmW0F0biz0\"\n",
        "\n",
        "# Display the YouTube video in the notebook\n",
        "YouTubeVideo(video_id)"
      ],
      "metadata": {
        "colab": {
          "base_uri": "https://localhost:8080/",
          "height": 321
        },
        "cellView": "form",
        "id": "xTpoKR1A5rQH",
        "outputId": "643abdd0-e1aa-4871-8c97-b9be08d43720"
      },
      "execution_count": 13,
      "outputs": [
        {
          "output_type": "execute_result",
          "data": {
            "text/plain": [
              "<IPython.lib.display.YouTubeVideo at 0x7bdaf26470d0>"
            ],
            "text/html": [
              "\n",
              "        <iframe\n",
              "            width=\"400\"\n",
              "            height=\"300\"\n",
              "            src=\"https://www.youtube.com/embed/jmmW0F0biz0\"\n",
              "            frameborder=\"0\"\n",
              "            allowfullscreen\n",
              "            \n",
              "        ></iframe>\n",
              "        "
            ],
            "image/jpeg": "[encoded data removed]"
          },
          "metadata": {},
          "execution_count": 13
        }
      ]
    },
    {
      "cell_type": "code",
      "execution_count": 1,
      "metadata": {
        "colab": {
          "base_uri": "https://localhost:8080/"
        },
        "id": "ZIv9hqb8Wv_k",
        "outputId": "71826c6b-1327-47a4-c28b-dd73bca9258c"
      },
      "outputs": [
        {
          "output_type": "stream",
          "name": "stdout",
          "text": [
            "Drive already mounted at /content/drive; to attempt to forcibly remount, call drive.mount(\"/content/drive\", force_remount=True).\n"
          ]
        }
      ],
      "source": [
        "# Mount Drive\n",
        "from google.colab import drive\n",
        "drive.mount('/content/drive')\n",
        "\n",
        "# Path to the unprocessed images\n",
        "image_dir = '/content/drive/MyDrive/RCUK_AI_Workshop/mars_hackathon_filtered/mars_hackathon'\n",
        "\n",
        "# Path to our preprocessed image data\n",
        "base_dir = '/content/drive/MyDrive/RCUK_AI_Workshop/mars_hackathon_filtered/mars_hackathon_preprocessed'"
      ]
    },
    {
      "cell_type": "markdown",
      "source": [
        "- Getting to know your data is key. go look in these folders and view images. do you think this task is achievable?\n",
        "- these images are high res. to pass images into the network we must resize these. this has been done for you to save time. use this folder as the source of your data:"
      ],
      "metadata": {
        "id": "rcNP9yNXqk71"
      }
    },
    {
      "cell_type": "markdown",
      "source": [
        "use this code:"
      ],
      "metadata": {
        "id": "LzFu1RizrJGG"
      }
    },
    {
      "cell_type": "markdown",
      "source": [],
      "metadata": {
        "id": "QQ6_DaFOwZjz"
      }
    },
    {
      "cell_type": "code",
      "source": [
        "import pandas as pd\n",
        "from sklearn.model_selection import train_test_split\n",
        "from tensorflow.keras.preprocessing.image import ImageDataGenerator\n",
        "import numpy as np\n",
        "import random\n",
        "\n",
        "\n",
        "num_epochs = 20\n",
        "\n",
        "# Set the seed for numpy, random, and TensorFlow at the beginning of your script\n",
        "np.random.seed(0)\n",
        "random.seed(0)\n",
        "tf.random.set_seed(0)\n",
        "\n",
        "\n",
        "def create_dataframe(folder_path, label):\n",
        "    filepaths = []\n",
        "    labels = []\n",
        "    for root, _, files in os.walk(folder_path):\n",
        "        for file in files:\n",
        "            if file.lower().endswith(('.png', '.jpg', '.jpeg')):\n",
        "                filepaths.append(os.path.join(root, file))\n",
        "                labels.append(label)\n",
        "    return pd.DataFrame({'filepath': filepaths, 'label': labels})\n",
        "\n",
        "# Paths to the main class directories\n",
        "healthy_dir = os.path.join(base_dir, 'healthy')\n",
        "degraded_dir = os.path.join(base_dir, 'degraded')\n",
        "\n",
        "# Create dataframes\n",
        "df_healthy = create_dataframe(healthy_dir, 'healthy')\n",
        "df_degraded = create_dataframe(degraded_dir, 'degraded')\n",
        "\n",
        "# Combine dataframes\n",
        "df = pd.concat([df_healthy, df_degraded], ignore_index=True)\n",
        "\n",
        "# Splitting the dataframe into training and validation sets\n",
        "train_df, val_df = train_test_split(df, test_size=0.2, random_state=0, stratify=df['label'])\n",
        "\n",
        "# Data generators\n",
        "train_datagen = ImageDataGenerator(rescale=1./255)\n",
        "val_datagen = ImageDataGenerator(rescale=1./255)\n",
        "\n",
        "train_generator = train_datagen.flow_from_dataframe(\n",
        "    dataframe=train_df,\n",
        "    x_col='filepath',\n",
        "    y_col='label',\n",
        "    target_size=(224, 224),  # Assuming you're still working with MobileNetV2\n",
        "    class_mode='binary',\n",
        "    batch_size=32)\n",
        "\n",
        "validation_generator = val_datagen.flow_from_dataframe(\n",
        "    dataframe=val_df,\n",
        "    x_col='filepath',\n",
        "    y_col='label',\n",
        "    target_size=(224, 224),\n",
        "    class_mode='binary',\n",
        "    batch_size=32)\n",
        "\n",
        "# Now you can use train_generator and validation_generator for training your model\n",
        "# Load a pre-trained model\n",
        "base_model = MobileNetV2(weights='imagenet', include_top=False)\n",
        "x = base_model.output\n",
        "x = GlobalAveragePooling2D()(x)\n",
        "x = Dense(1024, activation='relu')(x)\n",
        "predictions = Dense(1, activation='sigmoid')(x)\n",
        "\n",
        "model = Model(inputs=base_model.input, outputs=predictions)\n",
        "\n",
        "# Freeze the base_model for transfer learning\n",
        "for layer in base_model.layers:\n",
        "    layer.trainable = False\n",
        "\n",
        "model.compile(optimizer='adam', loss='binary_crossentropy', metrics=['accuracy'])\n",
        "\n",
        "# Train the model\n",
        "model.fit(train_generator, epochs=num_epochs, validation_data=validation_generator)"
      ],
      "metadata": {
        "colab": {
          "base_uri": "https://localhost:8080/"
        },
        "id": "QBzQDOAa1wBm",
        "outputId": "a165d47b-73de-4aa1-fe7f-658ba42b0de4"
      },
      "execution_count": 10,
      "outputs": [
        {
          "output_type": "stream",
          "name": "stdout",
          "text": [
            "Found 349 validated image filenames belonging to 2 classes.\n",
            "Found 88 validated image filenames belonging to 2 classes.\n"
          ]
        },
        {
          "output_type": "stream",
          "name": "stderr",
          "text": [
            "WARNING:tensorflow:`input_shape` is undefined or non-square, or `rows` is not in [96, 128, 160, 192, 224]. Weights for input shape (224, 224) will be loaded as the default.\n"
          ]
        },
        {
          "output_type": "stream",
          "name": "stdout",
          "text": [
            "Epoch 1/20\n",
            "11/11 [==============================] - 27s 350ms/step - loss: 0.4629 - accuracy: 0.8052 - val_loss: 5.8160 - val_accuracy: 0.4659\n",
            "Epoch 2/20\n",
            "11/11 [==============================] - 2s 171ms/step - loss: 0.1263 - accuracy: 0.9599 - val_loss: 7.5596 - val_accuracy: 0.4886\n",
            "Epoch 3/20\n",
            "11/11 [==============================] - 2s 207ms/step - loss: 0.0835 - accuracy: 0.9742 - val_loss: 3.6865 - val_accuracy: 0.5909\n",
            "Epoch 4/20\n",
            "11/11 [==============================] - 2s 176ms/step - loss: 0.0583 - accuracy: 0.9914 - val_loss: 8.5917 - val_accuracy: 0.5114\n",
            "Epoch 5/20\n",
            "11/11 [==============================] - 2s 191ms/step - loss: 0.0553 - accuracy: 0.9828 - val_loss: 12.0084 - val_accuracy: 0.4205\n",
            "Epoch 6/20\n",
            "11/11 [==============================] - 2s 199ms/step - loss: 0.0054 - accuracy: 1.0000 - val_loss: 12.3158 - val_accuracy: 0.4205\n",
            "Epoch 7/20\n",
            "11/11 [==============================] - 3s 233ms/step - loss: 0.0060 - accuracy: 0.9971 - val_loss: 8.7339 - val_accuracy: 0.4545\n",
            "Epoch 8/20\n",
            "11/11 [==============================] - 2s 218ms/step - loss: 0.0175 - accuracy: 0.9971 - val_loss: 13.2228 - val_accuracy: 0.4205\n",
            "Epoch 9/20\n",
            "11/11 [==============================] - 2s 176ms/step - loss: 0.0038 - accuracy: 1.0000 - val_loss: 21.2445 - val_accuracy: 0.4091\n",
            "Epoch 10/20\n",
            "11/11 [==============================] - 2s 175ms/step - loss: 0.0019 - accuracy: 1.0000 - val_loss: 22.0334 - val_accuracy: 0.4091\n",
            "Epoch 11/20\n",
            "11/11 [==============================] - 2s 181ms/step - loss: 0.0014 - accuracy: 1.0000 - val_loss: 22.1635 - val_accuracy: 0.4091\n",
            "Epoch 12/20\n",
            "11/11 [==============================] - 2s 185ms/step - loss: 0.0451 - accuracy: 0.9828 - val_loss: 20.1996 - val_accuracy: 0.4432\n",
            "Epoch 13/20\n",
            "11/11 [==============================] - 3s 240ms/step - loss: 0.0961 - accuracy: 0.9771 - val_loss: 2.7248 - val_accuracy: 0.8409\n",
            "Epoch 14/20\n",
            "11/11 [==============================] - 2s 201ms/step - loss: 0.0423 - accuracy: 0.9885 - val_loss: 1.1005 - val_accuracy: 0.9432\n",
            "Epoch 15/20\n",
            "11/11 [==============================] - 2s 169ms/step - loss: 0.0317 - accuracy: 0.9828 - val_loss: 1.4886 - val_accuracy: 0.8864\n",
            "Epoch 16/20\n",
            "11/11 [==============================] - 2s 171ms/step - loss: 0.0150 - accuracy: 0.9943 - val_loss: 7.4626 - val_accuracy: 0.6477\n",
            "Epoch 17/20\n",
            "11/11 [==============================] - 2s 179ms/step - loss: 0.0713 - accuracy: 0.9857 - val_loss: 1.6472 - val_accuracy: 0.8750\n",
            "Epoch 18/20\n",
            "11/11 [==============================] - 2s 180ms/step - loss: 0.0316 - accuracy: 0.9914 - val_loss: 9.0026 - val_accuracy: 0.5909\n",
            "Epoch 19/20\n",
            "11/11 [==============================] - 3s 241ms/step - loss: 0.0149 - accuracy: 0.9971 - val_loss: 17.0413 - val_accuracy: 0.4773\n",
            "Epoch 20/20\n",
            "11/11 [==============================] - 3s 228ms/step - loss: 0.0103 - accuracy: 0.9943 - val_loss: 27.6832 - val_accuracy: 0.4318\n"
          ]
        },
        {
          "output_type": "execute_result",
          "data": {
            "text/plain": [
              "<keras.src.callbacks.History at 0x7bdaf36390f0>"
            ]
          },
          "metadata": {},
          "execution_count": 10
        }
      ]
    },
    {
      "cell_type": "markdown",
      "source": [
        "- what do you notice about the relationship between the train acc and the val acc. what is causing this? (train is higher, likely overfitting)\n",
        "- what value is the acc of our model? if wanted a final, publishable acc what would we also need to do?\n",
        "- try increasing or decreasing the num epochs. what does this do to the accs and their relationship?\n",
        "- which small part can we change to train the full network, so we're not transfer learning\n",
        "- which is better? why could this be? (even more overfitting on train set)\n",
        "- of everything you've tried. what should we do to get the best version of our model. now do it!\n",
        "- we now have data from restored sites. lets inference on this and see how many images are restored!"
      ],
      "metadata": {
        "id": "9PE0zD4R2TbG"
      }
    },
    {
      "cell_type": "markdown",
      "metadata": {
        "id": "rMDH8tM8ZF_a"
      },
      "source": [
        "add restored inference\n"
      ]
    },
    {
      "cell_type": "code",
      "source": [],
      "metadata": {
        "id": "6aF3_2gx4tbt"
      },
      "execution_count": null,
      "outputs": []
    }
  ],
  "metadata": {
    "accelerator": "GPU",
    "colab": {
      "provenance": [],
      "authorship_tag": "ABX9TyNeDGrPD4/q7HyCUkVrIei4",
      "include_colab_link": true
    },
    "kernelspec": {
      "display_name": "Python 3",
      "name": "python3"
    },
    "language_info": {
      "name": "python"
    }
  },
  "nbformat": 4,
  "nbformat_minor": 0
}