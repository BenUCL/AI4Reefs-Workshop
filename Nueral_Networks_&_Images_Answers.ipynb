{
  "cells": [
    {
      "cell_type": "markdown",
      "metadata": {
        "id": "view-in-github",
        "colab_type": "text"
      },
      "source": [
        "<a href=\"https://colab.research.google.com/github/BenUCL/AI4Reefs-Workshop/blob/main/Nueral_Networks_%26_Images_Answers.ipynb\" target=\"_parent\"><img src=\"https://colab.research.google.com/assets/colab-badge.svg\" alt=\"Open In Colab\"/></a>"
      ]
    },
    {
      "cell_type": "markdown",
      "source": [
        "# **Neural Nets for Image Data**\n",
        "\n",
        "In this final notebook, we're going to replicate a task set in a hackathon earlier this year. [Read the full blog post here](https://www.buildingcoral.com/news/mars-data-scientists-turn-their-skills-to-coral-reef-restoration) (2min read).\n",
        "\n",
        "We will train a classifier to identify images from healthy and degraded reefs. We will once again start by doing this with transfer learning. We will then train the network from scratch, updating all the layers in the network.\n",
        "\n",
        "The approach we are taking is a good start, but it won't be perfect. You'll want to stay alert to some of the issues we see in the results and think about causes and fixes.\n"
      ],
      "metadata": {
        "id": "1tW9EyH9-Pwl"
      }
    },
    {
      "cell_type": "code",
      "source": [
        "#@title If you haven't already, watch this explainer on how neural networks work\n",
        "from IPython.display import YouTubeVideo\n",
        "\n",
        "# YouTube video ID\n",
        "video_id = \"jmmW0F0biz0\"\n",
        "\n",
        "# Display the YouTube video in the notebook\n",
        "YouTubeVideo(video_id)"
      ],
      "metadata": {
        "colab": {
          "base_uri": "https://localhost:8080/",
          "height": 321
        },
        "cellView": "form",
        "id": "xTpoKR1A5rQH",
        "outputId": "2ef436ed-05c9-49ea-d27e-5e7ae83ca61c"
      },
      "execution_count": null,
      "outputs": [
        {
          "output_type": "execute_result",
          "data": {
            "text/plain": [
              "<IPython.lib.display.YouTubeVideo at 0x7f424dbe7070>"
            ],
            "text/html": [
              "\n",
              "        <iframe\n",
              "            width=\"400\"\n",
              "            height=\"300\"\n",
              "            src=\"https://www.youtube.com/embed/jmmW0F0biz0\"\n",
              "            frameborder=\"0\"\n",
              "            allowfullscreen\n",
              "            \n",
              "        ></iframe>\n",
              "        "
            ],
            "image/jpeg": "[encoded data removed]"
          },
          "metadata": {},
          "execution_count": 5
        }
      ]
    },
    {
      "cell_type": "markdown",
      "source": [
        "## Access the new data\n",
        "\n",
        "We should have added a shortcut link to your own drive for the dataset folder in the intro colab, make sure to do this if you haven't already.\n",
        "\n",
        "First up, take a look at the data on your drive. We have two formats, the raw unprocessed data in 'mars_hackathon' and the preprocessed data in 'mars_hackathon_preprocessed'. Each sub-folder represents an individual site (keep this in mind!). A good model should be able to generalise to new sites and remain accurate.\n",
        "\n",
        "Questions:\n",
        "1. What has the preprocessing done to the data? What do you think the purpose of this is?\n",
        "A: resized, this is because the raw images are too high res to go into the network.\n",
        "2. We are going to train a model to classify images as 'healthy' and 'degraded'. Take a look at some of the different folders. Does the task look achievable? What issues could we face with generalisability to new data not included here?\n",
        "A: yes. generic stuff like diff types of coral, colour of images, survey method used\n",
        "\n",
        "\n",
        "\n"
      ],
      "metadata": {
        "id": "0d8jGk14SJRh"
      }
    },
    {
      "cell_type": "markdown",
      "source": [
        "## Now we are ready to start running some code\n",
        "\n",
        "Add in the appropriate file paths below and make sure to connect to a GPU runtime."
      ],
      "metadata": {
        "id": "aKBRCzU9uFWb"
      }
    },
    {
      "cell_type": "code",
      "execution_count": null,
      "metadata": {
        "colab": {
          "base_uri": "https://localhost:8080/"
        },
        "id": "ZIv9hqb8Wv_k",
        "outputId": "6c98fbee-1b47-4c90-c3fe-a5d5a2951cfb"
      },
      "outputs": [
        {
          "output_type": "stream",
          "name": "stdout",
          "text": [
            "Drive already mounted at /content/drive; to attempt to forcibly remount, call drive.mount(\"/content/drive\", force_remount=True).\n"
          ]
        }
      ],
      "source": [
        "# Mount Drive\n",
        "from google.colab import drive\n",
        "drive.mount('/content/drive')\n",
        "\n",
        "# Path to the unprocessed images\n",
        "image_dir = '/content/drive/MyDrive/RCUK_AI_Workshop/mars_hackathon_filtered/mars_hackathon'\n",
        "\n",
        "# Path to our preprocessed image data\n",
        "preprocessed_dir = '/content/drive/MyDrive/RCUK_AI_Workshop/mars_hackathon_filtered/mars_hackathon_resized'"
      ]
    },
    {
      "cell_type": "code",
      "source": [
        "#@title Imports and settings\n",
        "import pandas as pd\n",
        "import os\n",
        "from sklearn.model_selection import train_test_split\n",
        "import tensorflow as tf\n",
        "from tensorflow.keras.preprocessing.image import ImageDataGenerator\n",
        "import numpy as np\n",
        "import random\n",
        "\n",
        "# Set the seed for numpy, random, and TensorFlow at the beginning of your script\n",
        "np.random.seed(0)\n",
        "random.seed(0)\n",
        "tf.random.set_seed(0)\n",
        "\n",
        "# Number of epochs\n",
        "num_epochs = 5\n",
        "batch_size =  32"
      ],
      "metadata": {
        "id": "ruDfpZyCVBDk"
      },
      "execution_count": null,
      "outputs": []
    },
    {
      "cell_type": "markdown",
      "source": [
        "Questions\n",
        "1. What is an epoch when training a neural network?\n",
        "A: the network has seen every data sample once\n",
        "2. What is batch size?\n",
        "A: Number of samples the network uses to update its weights at each iteration"
      ],
      "metadata": {
        "id": "fYWXu1C4VLqa"
      }
    },
    {
      "cell_type": "markdown",
      "source": [
        "### Loading data\n",
        "\n",
        "Note this is the largest part of the code (even with the preprocessing done for you!). This is often where most of the work is actually done in an ML project."
      ],
      "metadata": {
        "id": "wbraOVBwVc2x"
      }
    },
    {
      "cell_type": "code",
      "source": [
        "# Function to create a df of the data filepaths so we can access and split it\n",
        "def create_dataframe(folder_path, label):\n",
        "    filepaths = []\n",
        "    labels = []\n",
        "    for root, _, files in os.walk(folder_path):\n",
        "        for file in files:\n",
        "            if file.lower().endswith(('.png', '.jpg', '.jpeg')):\n",
        "                filepaths.append(os.path.join(root, file))\n",
        "                labels.append(label)\n",
        "    return pd.DataFrame({'filepath': filepaths, 'label': labels})\n",
        "\n",
        "# Paths to the main class directories\n",
        "healthy_dir = os.path.join(preprocessed_dir, 'healthy')\n",
        "degraded_dir = os.path.join(preprocessed_dir, 'degraded')\n",
        "\n",
        "# Create dataframes\n",
        "df_healthy = create_dataframe(healthy_dir, 'healthy')\n",
        "df_degraded = create_dataframe(degraded_dir, 'degraded')\n",
        "\n",
        "# Combine dataframes\n",
        "df = pd.concat([df_healthy, df_degraded], ignore_index=True)\n",
        "\n",
        "# Splitting the dataframe into training and validation sets\n",
        "train_df, val_df = train_test_split(df, test_size=0.2, random_state=0, stratify=df['label'])\n",
        "\n",
        "# Data generators\n",
        "train_datagen = ImageDataGenerator(rescale=1./255)\n",
        "val_datagen = ImageDataGenerator(rescale=1./255)\n",
        "\n",
        "train_generator = train_datagen.flow_from_dataframe(\n",
        "    dataframe=train_df,\n",
        "    x_col='filepath',\n",
        "    y_col='label',\n",
        "    target_size=(224, 224),  # Assuming you're still working with MobileNetV2\n",
        "    class_mode='binary',\n",
        "    batch_size=batch_size)\n",
        "\n",
        "validation_generator = val_datagen.flow_from_dataframe(\n",
        "    dataframe=val_df,\n",
        "    x_col='filepath',\n",
        "    y_col='label',\n",
        "    target_size=(224, 224),\n",
        "    class_mode='binary',\n",
        "    batch_size=batch_size)\n",
        "\n",
        "# This will print the train and val dataset sizes"
      ],
      "metadata": {
        "colab": {
          "base_uri": "https://localhost:8080/"
        },
        "id": "MZOhhZxRVVfk",
        "outputId": "f5f8d234-4be8-465d-8c0d-a1a1d07e33c0"
      },
      "execution_count": null,
      "outputs": [
        {
          "output_type": "stream",
          "name": "stdout",
          "text": [
            "Found 349 validated image filenames belonging to 2 classes.\n",
            "Found 88 validated image filenames belonging to 2 classes.\n"
          ]
        }
      ]
    },
    {
      "cell_type": "markdown",
      "source": [
        "## Now train our model!\n",
        "\n",
        "We start by performing transfer learning using the 'MobileNetV2' pretrained neural network. This is a small network so it runs fast."
      ],
      "metadata": {
        "id": "u6D5Sa4-V0XJ"
      }
    },
    {
      "cell_type": "code",
      "source": [
        "import tensorflow as tf\n",
        "from tensorflow.keras.preprocessing.image import ImageDataGenerator\n",
        "from tensorflow.keras.applications import MobileNetV2\n",
        "from tensorflow.keras.layers import Dense, GlobalAveragePooling2D\n",
        "from tensorflow.keras.models import Model\n",
        "import os\n",
        "\n",
        "# Load pre-trained model\n",
        "base_model = MobileNetV2(weights='imagenet', include_top=False)\n",
        "x = base_model.output\n",
        "x = GlobalAveragePooling2D()(x)\n",
        "x = Dense(1024, activation='relu')(x)\n",
        "\n",
        "# We will add 1 output neuron, as we are performing a binary classification task\n",
        "predictions = Dense(1, activation='sigmoid')(x)\n",
        "model = Model(inputs=base_model.input, outputs=predictions)\n",
        "\n",
        "# Freeze every layer except our final output neuron\n",
        "for layer in base_model.layers:\n",
        "    layer.trainable = False\n",
        "\n",
        "# Final settings for the model\n",
        "model.compile(optimizer='adam', loss='binary_crossentropy', metrics=['accuracy'])\n",
        "\n",
        "# Train the model!\n",
        "model.fit(train_generator, epochs=num_epochs, validation_data=validation_generator)"
      ],
      "metadata": {
        "colab": {
          "base_uri": "https://localhost:8080/"
        },
        "id": "QBzQDOAa1wBm",
        "outputId": "1f67e2e4-6059-4927-9531-e4a38baf75b7"
      },
      "execution_count": null,
      "outputs": [
        {
          "output_type": "stream",
          "name": "stderr",
          "text": [
            "WARNING:tensorflow:`input_shape` is undefined or non-square, or `rows` is not in [96, 128, 160, 192, 224]. Weights for input shape (224, 224) will be loaded as the default.\n"
          ]
        },
        {
          "output_type": "stream",
          "name": "stdout",
          "text": [
            "Downloading data from https://storage.googleapis.com/tensorflow/keras-applications/mobilenet_v2/mobilenet_v2_weights_tf_dim_ordering_tf_kernels_1.0_224_no_top.h5\n",
            "9406464/9406464 [==============================] - 0s 0us/step\n",
            "Epoch 1/5\n",
            "11/11 [==============================] - 88s 7s/step - loss: 0.9341 - accuracy: 0.6705 - val_loss: 0.3470 - val_accuracy: 0.8182\n",
            "Epoch 2/5\n",
            "11/11 [==============================] - 2s 147ms/step - loss: 0.3311 - accuracy: 0.8825 - val_loss: 0.2899 - val_accuracy: 0.8750\n",
            "Epoch 3/5\n",
            "11/11 [==============================] - 2s 157ms/step - loss: 0.1928 - accuracy: 0.9226 - val_loss: 0.3599 - val_accuracy: 0.8977\n",
            "Epoch 4/5\n",
            "11/11 [==============================] - 2s 174ms/step - loss: 0.1411 - accuracy: 0.9427 - val_loss: 0.2509 - val_accuracy: 0.9091\n",
            "Epoch 5/5\n",
            "11/11 [==============================] - 2s 133ms/step - loss: 0.0925 - accuracy: 0.9799 - val_loss: 0.2405 - val_accuracy: 0.9091\n"
          ]
        },
        {
          "output_type": "execute_result",
          "data": {
            "text/plain": [
              "<keras.src.callbacks.History at 0x7f41b808cfa0>"
            ]
          },
          "metadata": {},
          "execution_count": 9
        }
      ]
    },
    {
      "cell_type": "markdown",
      "source": [
        "## Questions/Exercises\n",
        "Take your time to understand a bit more about the output and what we have done here.\n",
        "\n",
        "You can start by running the cell below to look at some example predictions from the validation set. Can you see why some may be incorrect or have different confidence scores?\n",
        "\n",
        "Now try these questions:\n",
        "\n",
        "1. What do you notice about how the train accuracy and the validation accuracy are changing. Do these differ, and if so why?\n",
        "A: train acc likely higher and increases mostly steadily. Val acc may be lower and increase more randomly. The network is fitting to the train data so is optimised to this.\n",
        "2. Which of these two measures should we focus on?\n",
        "A: Val acc\n",
        "3. Here, we have randomly selected 80% of the data from all sites as training data. What would be a better way to split this?\n",
        "A: We should take a whole site or two from each class as val data\n",
        "4. How can we now select the best version of the model for new data going forward?\n",
        "A: Find the epoch with the highest val acc. Train this num of epochs.\n",
        "5. If we want a final publishable accuracy, what else do we need to do?\n",
        "A: Create a third data split; a test set.\n",
        "\n",
        "Further Experiments:\n",
        "6. Try increasing or decreasing the num_epochs. What does this do to the accuracies and their relationships? Keep notes on the best epoch.\n",
        "A: dependant on students working\n",
        "7. Which small part of the code can we change to train the full network, so we're not transfer learning, but training the whole network? Try it!\n",
        "A: change  layer.trainable to True\n",
        "8. Which is better? Why could this be?\n",
        "A: Important to look at val acc here. May be transfer learning in this case, as our dataset is small. May be fully trained network if it hasn't overtrained.\n",
        "9. Now lets train the best version of our model from what you've tried. What information from the results so far can we use to do this?\n",
        "A: Of the above combinations\n",
        "\n",
        "Finally - what could we start using this model for and where? What would happen if we changed how we collected are data or where this was from? What limitations should we keep in mind."
      ],
      "metadata": {
        "id": "9PE0zD4R2TbG"
      }
    },
    {
      "cell_type": "code",
      "source": [
        "#@title View images\n",
        "import matplotlib.pyplot as plt\n",
        "import numpy as np\n",
        "\n",
        "def display_images_with_predictions(generator, model, start_img=0, end_img=10):\n",
        "    \"\"\"\n",
        "    Display images from the generator along with model's predictions and confidence scores.\n",
        "    \"\"\"\n",
        "    batch_size = generator.batch_size\n",
        "    images_shown = 0\n",
        "    total_images = start_img + (end_img - start_img)\n",
        "\n",
        "    while images_shown < total_images:\n",
        "        data = next(generator)\n",
        "        images, labels = data[0], data[1]\n",
        "\n",
        "        for i in range(len(images)):\n",
        "            current_img_index = images_shown + batch_size * generator.batch_index\n",
        "            if current_img_index >= start_img and current_img_index < end_img:\n",
        "                plt.imshow(images[i])\n",
        "                plt.axis('off')\n",
        "\n",
        "                # Predict the class and probability of the image\n",
        "                prediction = model.predict(np.expand_dims(images[i], axis=0))\n",
        "                predicted_label = 'degraded' if prediction[0][0] < 0.5 else 'healthy'\n",
        "                confidence = prediction[0][0] if predicted_label == 'healthy' else 1 - prediction[0][0]\n",
        "                true_label = 'degraded' if labels[i] < 0.5 else 'healthy'\n",
        "\n",
        "                plt.title(f'Predicted: {predicted_label} ({confidence:.2f}), True: {true_label}')\n",
        "                plt.show()\n",
        "\n",
        "            images_shown += 1\n",
        "\n",
        "            if images_shown == total_images:\n",
        "                return\n",
        "\n",
        "# Adjust these to view different images\n",
        "start_img=1\n",
        "end_img=10\n",
        "\n",
        "# Now display results\n",
        "display_images_with_predictions(validation_generator, model, start_img=start_img, end_img=end_img)\n",
        "\n",
        "# We see the predicted class, the models confidence in this and the True class."
      ],
      "metadata": {
        "id": "Fq-lmLrWi-yO"
      },
      "execution_count": null,
      "outputs": []
    }
  ],
  "metadata": {
    "accelerator": "GPU",
    "colab": {
      "provenance": [],
      "gpuType": "T4",
      "authorship_tag": "ABX9TyO3Wpgxb+LZGyZ91gj52ho/",
      "include_colab_link": true
    },
    "kernelspec": {
      "display_name": "Python 3",
      "name": "python3"
    },
    "language_info": {
      "name": "python"
    }
  },
  "nbformat": 4,
  "nbformat_minor": 0
}